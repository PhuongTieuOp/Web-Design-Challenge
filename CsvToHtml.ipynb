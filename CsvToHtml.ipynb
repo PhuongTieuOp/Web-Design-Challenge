{
 "cells": [
  {
   "cell_type": "markdown",
   "metadata": {},
   "source": [
    "### Convert csv file to html readable datafile"
   ]
  },
  {
   "cell_type": "code",
   "execution_count": 15,
   "metadata": {},
   "outputs": [
    {
     "data": {
      "text/html": [
       "<div>\n",
       "<style scoped>\n",
       "    .dataframe tbody tr th:only-of-type {\n",
       "        vertical-align: middle;\n",
       "    }\n",
       "\n",
       "    .dataframe tbody tr th {\n",
       "        vertical-align: top;\n",
       "    }\n",
       "\n",
       "    .dataframe thead th {\n",
       "        text-align: right;\n",
       "    }\n",
       "</style>\n",
       "<table border=\"1\" class=\"dataframe\">\n",
       "  <thead>\n",
       "    <tr style=\"text-align: right;\">\n",
       "      <th></th>\n",
       "      <th>city id</th>\n",
       "      <th>city</th>\n",
       "      <th>country</th>\n",
       "      <th>latitude</th>\n",
       "      <th>longitute</th>\n",
       "      <th>temperature(C)</th>\n",
       "      <th>humidity(%)</th>\n",
       "      <th>wind speed(mps)</th>\n",
       "      <th>cloud(%)</th>\n",
       "      <th>receive date</th>\n",
       "    </tr>\n",
       "  </thead>\n",
       "  <tbody>\n",
       "    <tr>\n",
       "      <th>0</th>\n",
       "      <td>2074865</td>\n",
       "      <td>Carnarvon</td>\n",
       "      <td>AU</td>\n",
       "      <td>-24.8667</td>\n",
       "      <td>113.6333</td>\n",
       "      <td>18.63</td>\n",
       "      <td>52</td>\n",
       "      <td>7.07</td>\n",
       "      <td>0</td>\n",
       "      <td>22-07-2022 20:52:31</td>\n",
       "    </tr>\n",
       "    <tr>\n",
       "      <th>1</th>\n",
       "      <td>2377457</td>\n",
       "      <td>Nouadhibou</td>\n",
       "      <td>MR</td>\n",
       "      <td>20.9310</td>\n",
       "      <td>-17.0347</td>\n",
       "      <td>25.99</td>\n",
       "      <td>83</td>\n",
       "      <td>3.60</td>\n",
       "      <td>7</td>\n",
       "      <td>22-07-2022 20:52:31</td>\n",
       "    </tr>\n",
       "    <tr>\n",
       "      <th>2</th>\n",
       "      <td>373303</td>\n",
       "      <td>Juba</td>\n",
       "      <td>SS</td>\n",
       "      <td>4.8517</td>\n",
       "      <td>31.5825</td>\n",
       "      <td>33.09</td>\n",
       "      <td>40</td>\n",
       "      <td>1.89</td>\n",
       "      <td>31</td>\n",
       "      <td>22-07-2022 20:52:32</td>\n",
       "    </tr>\n",
       "    <tr>\n",
       "      <th>3</th>\n",
       "      <td>3466980</td>\n",
       "      <td>Caravelas</td>\n",
       "      <td>BR</td>\n",
       "      <td>-17.7125</td>\n",
       "      <td>-39.2481</td>\n",
       "      <td>22.54</td>\n",
       "      <td>85</td>\n",
       "      <td>1.34</td>\n",
       "      <td>54</td>\n",
       "      <td>22-07-2022 20:52:33</td>\n",
       "    </tr>\n",
       "    <tr>\n",
       "      <th>4</th>\n",
       "      <td>3598462</td>\n",
       "      <td>Chiquimulilla</td>\n",
       "      <td>GT</td>\n",
       "      <td>14.0858</td>\n",
       "      <td>-90.3767</td>\n",
       "      <td>21.28</td>\n",
       "      <td>91</td>\n",
       "      <td>1.98</td>\n",
       "      <td>98</td>\n",
       "      <td>22-07-2022 20:52:34</td>\n",
       "    </tr>\n",
       "  </tbody>\n",
       "</table>\n",
       "</div>"
      ],
      "text/plain": [
       "   city id           city country  latitude  longitute  temperature(C)  \\\n",
       "0  2074865      Carnarvon      AU  -24.8667   113.6333           18.63   \n",
       "1  2377457     Nouadhibou      MR   20.9310   -17.0347           25.99   \n",
       "2   373303           Juba      SS    4.8517    31.5825           33.09   \n",
       "3  3466980      Caravelas      BR  -17.7125   -39.2481           22.54   \n",
       "4  3598462  Chiquimulilla      GT   14.0858   -90.3767           21.28   \n",
       "\n",
       "   humidity(%)  wind speed(mps)  cloud(%)         receive date  \n",
       "0           52             7.07         0  22-07-2022 20:52:31  \n",
       "1           83             3.60         7  22-07-2022 20:52:31  \n",
       "2           40             1.89        31  22-07-2022 20:52:32  \n",
       "3           85             1.34        54  22-07-2022 20:52:33  \n",
       "4           91             1.98        98  22-07-2022 20:52:34  "
      ]
     },
     "execution_count": 15,
     "metadata": {},
     "output_type": "execute_result"
    }
   ],
   "source": [
    "# Dependencies and Setup\n",
    "import pandas as pd\n",
    "import io\n",
    "\n",
    "# File to Load \n",
    "file_to_load = \"./Resources/weather_data.csv\"\n",
    "\n",
    "# Read Purchasing File and store into Pandas data frame\n",
    "df = pd.read_csv(file_to_load)\n",
    "\n",
    "# Drop the unused index column in csv file if any\n",
    "df = df.loc[:, ~df.columns.str.contains('^Unnamed')]\n",
    "df.head()"
   ]
  },
  {
   "cell_type": "code",
   "execution_count": 16,
   "metadata": {},
   "outputs": [],
   "source": [
    "html_df = df\n",
    "\n",
    "# render dataframe as html\n",
    "html = df.to_html()\n",
    "\n",
    "with io.open(\"DataPage.html\", \"w\", encoding=\"utf-8\") as f:\n",
    "    f.write(html)"
   ]
  }
 ],
 "metadata": {
  "anaconda-cloud": {},
  "interpreter": {
   "hash": "6ef5a1f599181e98994def55274407ee490106121a5413bea398e0814293b6ce"
  },
  "kernel_info": {
   "name": "python3"
  },
  "kernelspec": {
   "display_name": "Python 3 (ipykernel)",
   "language": "python",
   "name": "python3"
  },
  "language_info": {
   "codemirror_mode": {
    "name": "ipython",
    "version": 3
   },
   "file_extension": ".py",
   "mimetype": "text/x-python",
   "name": "python",
   "nbconvert_exporter": "python",
   "pygments_lexer": "ipython3",
   "version": "3.9.7"
  },
  "latex_envs": {
   "LaTeX_envs_menu_present": true,
   "autoclose": false,
   "autocomplete": true,
   "bibliofile": "biblio.bib",
   "cite_by": "apalike",
   "current_citInitial": 1,
   "eqLabelWithNumbers": true,
   "eqNumInitial": 1,
   "hotkeys": {
    "equation": "Ctrl-E",
    "itemize": "Ctrl-I"
   },
   "labels_anchors": false,
   "latex_user_defs": false,
   "report_style_numbering": false,
   "user_envs_cfg": false
  },
  "nteract": {
   "version": "0.2.0"
  }
 },
 "nbformat": 4,
 "nbformat_minor": 2
}
